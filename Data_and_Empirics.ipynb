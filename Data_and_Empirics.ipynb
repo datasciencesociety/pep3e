{
 "cells": [
  {
   "cell_type": "markdown",
   "metadata": {},
   "source": [
    "Pandas is a module for fast and efficient data analysis tools in Python.\n",
    "<p>\n",
    "    - Pandas Series is a single column of data.\n",
    "    <br>\n",
    "    - Pandas DataFrame is a several columns of data."
   ]
  },
  {
   "cell_type": "code",
   "execution_count": 2,
   "metadata": {},
   "outputs": [],
   "source": [
    "import pandas as pd\n",
    "import s3fs "
   ]
  },
  {
   "cell_type": "code",
   "execution_count": 4,
   "metadata": {},
   "outputs": [
    {
     "data": {
      "text/plain": [
       "count    4.000000\n",
       "mean     0.089619\n",
       "std      0.631073\n",
       "min     -0.396087\n",
       "25%     -0.251560\n",
       "50%     -0.129088\n",
       "75%      0.212091\n",
       "max      1.012736\n",
       "Name: daily returns, dtype: float64"
      ]
     },
     "execution_count": 4,
     "metadata": {},
     "output_type": "execute_result"
    }
   ],
   "source": [
    "# Series\n",
    "s = pd.Series(np.random.randn(4), name='daily returns')\n",
    "s*100\n",
    "np.abs(s)\n",
    "s.describe()\n",
    "s.index = ['AMZN', 'AAPL', 'MSFT', 'GOOG']\n",
    "s['AMZN']\n",
    "'AAPL' in s"
   ]
  },
  {
   "cell_type": "code",
   "execution_count": 34,
   "metadata": {},
   "outputs": [],
   "source": [
    "# DataFrames\n",
    "df = pd.read_csv('https://github.com/QuantEcon/QuantEcon.lectures.code/raw/master/pandas/data/test_pwt.csv')\n",
    "type(df)\n",
    "df #display dataframe\n",
    "df.head() #display 1st 5 rows\n",
    "df.tail() #display last 5 rows\n",
    "df.iloc[2:5, 0:4] #select rows and columns using their integer indexes\n",
    "df.loc[df.index[2:5], ['country', 'tcgdp']] # select rows and columns using mixture of indexes and labels\n",
    "\n",
    "\n",
    "df[['country', 'tcgdp']] #select certain columns from the dataframe\n",
    "df2 = df[['country', 'POP', 'tcgdp']] # create new dataframe from the selected columns\n",
    "\n",
    "df2 = df2.rename(index = str, columns={'POP': 'population','tcgdp': 'total GDP'}) # rename columns\n",
    "\n",
    "df2['population'] = df2['population'] * 1e3 # column multiplication\n",
    "df2['GDP percap'] = df2['total GDP'] * 1e6 / df2['population']\n",
    "df2 = df2.set_index('country') #set a column for an index\n",
    "\n"
   ]
  },
  {
   "cell_type": "code",
   "execution_count": 35,
   "metadata": {},
   "outputs": [
    {
     "data": {
      "image/png": "[encoded data removed]",
      "text/plain": [
       "<Figure size 432x288 with 1 Axes>"
      ]
     },
     "metadata": {
      "needs_background": "light"
     },
     "output_type": "display_data"
    }
   ],
   "source": [
    "# plot GDP percap\n",
    "import matplotlib.pyplot as plt\n",
    "%matplotlib inline\n",
    "\n",
    "df2['GDP percap'].plot(kind='bar')\n",
    "plt.show()"
   ]
  },
  {
   "cell_type": "code",
   "execution_count": 36,
   "metadata": {},
   "outputs": [
    {
     "data": {
      "image/png": "[encoded data removed]",
      "text/plain": [
       "<Figure size 432x288 with 1 Axes>"
      ]
     },
     "metadata": {
      "needs_background": "light"
     },
     "output_type": "display_data"
    }
   ],
   "source": [
    "df2 = df2.sort_values(by='GDP percap', ascending=False)\n",
    "df2['GDP percap'].plot(kind='bar')\n",
    "plt.show()"
   ]
  },
  {
   "cell_type": "code",
   "execution_count": null,
   "metadata": {},
   "outputs": [],
   "source": [
    "# Use pandas to read, write files\n",
    "import pandas as pd\n",
    "pd.read_csv(\"csv_path_here\")\n",
    "pd.read_excel(\"excel-path-here\")\n",
    "\n",
    "# Write pandas dataframe to file\n",
    "df = pd.DataFrame()\n",
    "df.to_csv(\"csv-path-here\", index=False)"
   ]
  },
  {
   "cell_type": "code",
   "execution_count": null,
   "metadata": {},
   "outputs": [],
   "source": [
    "# Read file on S3 storage and load it as Pandas dataframe\n",
    "import s3fs\n",
    "fs = s3fs.S3FileSystem(anon=True)\n",
    "fs.ls('datacases/datathon-2018-2/')\n",
    "fs.ls('datacases/datathon-2018-2/kaufland')\n",
    "with fs.open('datacases/datathon-2018-2/kaufland/20180820_Kaufland_case_IoT_and_predictive_maintenance_events.xlsx', 'rb') as f:\n",
    "    df_events = pd.read_excel(f)"
   ]
  },
  {
   "cell_type": "markdown",
   "metadata": {},
   "source": [
    "References: <p>\n",
    "    https://pandas.pydata.org/\n",
    "    <br>\n",
    "    http://www.numpy.org/\n",
    "    <br>\n",
    "https://quantecon.org\n",
    "    <br>\n",
    "https://matplotlib.org/gallery.html\n",
    "    <br>\n",
    "http://scipy-lectures.org/intro/matplotlib/matplotlib.html\n",
    "    <br>\n",
    "    https://www.scipy.org/\n",
    "    "
   ]
  }
 ],
 "metadata": {
  "kernelspec": {
   "display_name": "Python 3",
   "language": "python",
   "name": "python3"
  },
  "language_info": {
   "codemirror_mode": {
    "name": "ipython",
    "version": 3
   },
   "file_extension": ".py",
   "mimetype": "text/x-python",
   "name": "python",
   "nbconvert_exporter": "python",
   "pygments_lexer": "ipython3",
   "version": "3.6.7"
  },
  "varInspector": {
   "cols": {
    "lenName": 16,
    "lenType": 16,
    "lenVar": 40
   },
   "kernels_config": {
    "python": {
     "delete_cmd_postfix": "",
     "delete_cmd_prefix": "del ",
     "library": "var_list.py",
     "varRefreshCmd": "print(var_dic_list())"
    },
    "r": {
     "delete_cmd_postfix": ") ",
     "delete_cmd_prefix": "rm(",
     "library": "var_list.r",
     "varRefreshCmd": "cat(var_dic_list()) "
    }
   },
   "types_to_exclude": [
    "module",
    "function",
    "builtin_function_or_method",
    "instance",
    "_Feature"
   ],
   "window_display": true
  }
 },
 "nbformat": 4,
 "nbformat_minor": 2
}
