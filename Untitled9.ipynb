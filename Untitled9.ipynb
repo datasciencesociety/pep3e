{
 "cells": [
  {
   "cell_type": "code",
   "execution_count": 5,
   "metadata": {},
   "outputs": [
    {
     "ename": "ERROR",
     "evalue": "Error in install.package(\"plotly\"): could not find function \"install.package\"\n",
     "output_type": "error",
     "traceback": [
      "Error in install.package(\"plotly\"): could not find function \"install.package\"\nTraceback:\n"
     ]
    }
   ],
   "source": [
    "install.package(\"plotly\")"
   ]
  },
  {
   "cell_type": "code",
   "execution_count": 3,
   "metadata": {
    "scrolled": true
   },
   "outputs": [
    {
     "name": "stderr",
     "output_type": "stream",
     "text": [
      "ERROR while rich displaying an object: Error in file(file, \"rb\"): invalid 'description' argument\n",
      "\n",
      "Traceback:\n",
      "1. FUN(X[[i]], ...)\n",
      "2. tryCatch(withCallingHandlers({\n",
      " .     rpr <- mime2repr[[mime]](obj)\n",
      " .     if (is.null(rpr)) \n",
      " .         return(NULL)\n",
      " .     prepare_content(is.raw(rpr), rpr)\n",
      " . }, error = error_handler), error = outer_handler)\n",
      "3. tryCatchList(expr, classes, parentenv, handlers)\n",
      "4. tryCatchOne(expr, names, parentenv, handlers[[1L]])\n",
      "5. doTryCatch(return(expr), name, parentenv, handler)\n",
      "6. withCallingHandlers({\n",
      " .     rpr <- mime2repr[[mime]](obj)\n",
      " .     if (is.null(rpr)) \n",
      " .         return(NULL)\n",
      " .     prepare_content(is.raw(rpr), rpr)\n",
      " . }, error = error_handler)\n",
      "7. mime2repr[[mime]](obj)\n",
      "8. repr_html.htmlwidget(obj)\n",
      "9. lapply(obj$dependencies, function(dep) {\n",
      " .     html <- c()\n",
      " .     if (length(dep$script) > 0) {\n",
      " .         f <- file.path(dep$src$file, dep$script)\n",
      " .         html <- c(html, sprintf(\"<script src=\\\"%s\\\"></script>\", \n",
      " .             dataURI(mime = \"application/javascript\", file = f)))\n",
      " .     }\n",
      " .     if (length(dep$stylesheet) > 0) {\n",
      " .         f <- file.path(dep$src$file, dep$stylesheet)\n",
      " .         html <- c(html, sprintf(\"<link href=\\\"%s\\\" rel=\\\"stylesheet\\\" />\", \n",
      " .             dataURI(mime = \"text/css;charset-utf-8\", file = f)))\n",
      " .     }\n",
      " .     paste(html, collapse = \"\\n\")\n",
      " . })\n",
      "10. FUN(X[[i]], ...)\n",
      "11. sprintf(\"<script src=\\\"%s\\\"></script>\", dataURI(mime = \"application/javascript\", \n",
      "  .     file = f))\n",
      "12. dataURI(mime = \"application/javascript\", file = f)\n",
      "13. file(file, \"rb\")\n"
     ]
    },
    {
     "data": {
      "text/plain": [
       "HTML widgets cannot be represented in plain text (need html)"
      ]
     },
     "metadata": {},
     "output_type": "display_data"
    }
   ],
   "source": [
    "library(leaflet)\n",
    "library(devtools)\n",
    "\n",
    "m <- leaflet()\n",
    "m <- addTiles(m)\n",
    "m <- addMarkers(m, lng=174.768, lat=-36.852, popup=\"The birthplace of R\")\n",
    "m"
   ]
  },
  {
   "cell_type": "code",
   "execution_count": 8,
   "metadata": {},
   "outputs": [
    {
     "name": "stderr",
     "output_type": "stream",
     "text": [
      "also installing the dependencies ‘hexbin’, ‘data.table’\n",
      "\n",
      "Updating HTML index of packages in '.Library'\n",
      "Warning message in file.create(f.tg):\n",
      "“cannot create file '/opt/conda/lib/R/doc/html/packages.html', reason 'Permission denied'”Warning message in make.packages.html(.Library):\n",
      "“cannot update HTML package index”"
     ]
    }
   ],
   "source": [
    "install.packages(\"plotly\")"
   ]
  },
  {
   "cell_type": "code",
   "execution_count": 7,
   "metadata": {},
   "outputs": [
    {
     "ename": "ERROR",
     "evalue": "Error in library(plotly): there is no package called ‘plotly’\n",
     "output_type": "error",
     "traceback": [
      "Error in library(plotly): there is no package called ‘plotly’\nTraceback:\n",
      "1. library(plotly)",
      "2. stop(txt, domain = NA)"
     ]
    }
   ],
   "source": [
    "library(plotly)\n",
    "set.seed(100)\n",
    "d <- diamonds[sample(nrow(diamonds), 1000), ]\n",
    "myPlot <- plot_ly(d, x = carat, y = price, text = paste(\"Clarity: \", clarity),\n",
    "        mode = \"markers\", color = carat, size = carat)\n",
    "embed_notebook(myPlot)"
   ]
  }
 ],
 "metadata": {
  "kernelspec": {
   "display_name": "R",
   "language": "R",
   "name": "ir"
  },
  "language_info": {
   "codemirror_mode": "r",
   "file_extension": ".r",
   "mimetype": "text/x-r-source",
   "name": "R",
   "pygments_lexer": "r",
   "version": "3.5.1"
  }
 },
 "nbformat": 4,
 "nbformat_minor": 2
}
