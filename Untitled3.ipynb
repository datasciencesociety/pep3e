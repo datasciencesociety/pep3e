{
 "cells": [
  {
   "cell_type": "code",
   "execution_count": 7,
   "metadata": {},
   "outputs": [
    {
     "name": "stderr",
     "output_type": "stream",
     "text": [
      "Updating HTML index of packages in '.Library'\n",
      "Making 'packages.html' ... done\n",
      "Updating HTML index of packages in '.Library'\n",
      "Making 'packages.html' ... done\n"
     ]
    }
   ],
   "source": [
    "install.packages(\"tidyverse\")\n",
    "install.packages(\"xtable\")"
   ]
  },
  {
   "cell_type": "code",
   "execution_count": 9,
   "metadata": {
    "scrolled": true
   },
   "outputs": [
    {
     "name": "stderr",
     "output_type": "stream",
     "text": [
      "Updating HTML index of packages in '.Library'\n",
      "Making 'packages.html' ... done\n"
     ]
    }
   ],
   "source": [
    "install.packages(\"repr\")"
   ]
  },
  {
   "cell_type": "code",
   "execution_count": 14,
   "metadata": {},
   "outputs": [
    {
     "data": {
      "text/html": [
       "<style>.container { width:100% !important; }</style>"
      ]
     },
     "metadata": {},
     "output_type": "display_data"
    }
   ],
   "source": [
    "IRdisplay::display_html('<style>.container { width:100% !important; }</style>')\n",
    "IRdisplay::display_html('<iframe src=\"trial.html\" width=1000, height=1000></iframe> ') "
   ]
  },
  {
   "cell_type": "code",
   "execution_count": 15,
   "metadata": {},
   "outputs": [
    {
     "data": {
      "text/html": [
       "<iframe src=\"trial.html\" width=1000, height=1000></iframe> "
      ]
     },
     "metadata": {},
     "output_type": "display_data"
    }
   ],
   "source": [
    "IRdisplay::display_html('<iframe src=\"trial.html\" width=1000, height=1000></iframe> ') "
   ]
  },
  {
   "cell_type": "code",
   "execution_count": 11,
   "metadata": {},
   "outputs": [
    {
     "ename": "ERROR",
     "evalue": "Error in display_html(\"trial.html\"): could not find function \"display_html\"\n",
     "output_type": "error",
     "traceback": [
      "Error in display_html(\"trial.html\"): could not find function \"display_html\"\nTraceback:\n"
     ]
    }
   ],
   "source": [
    "display_html(\"trial.html\")"
   ]
  },
  {
   "cell_type": "code",
   "execution_count": 10,
   "metadata": {},
   "outputs": [
    {
     "ename": "ERROR",
     "evalue": "Error in value[[3L]](cond): Package ‘IRdisplay’ version 0.5.0 cannot be unloaded:\n Error in unloadNamespace(package) : namespace ‘IRdisplay’ is imported by ‘IRkernel’ so cannot be unloaded\n\n",
     "output_type": "error",
     "traceback": [
      "Error in value[[3L]](cond): Package ‘IRdisplay’ version 0.5.0 cannot be unloaded:\n Error in unloadNamespace(package) : namespace ‘IRdisplay’ is imported by ‘IRkernel’ so cannot be unloaded\n\nTraceback:\n",
      "1. library(IRdisplay)",
      "2. tryCatch(unloadNamespace(package), error = function(e) {\n .     P <- if (!is.null(cc <- conditionCall(e))) \n .         paste(\"Error in\", deparse(cc)[1L], \": \")\n .     else \"Error : \"\n .     stop(gettextf(\"Package %s version %s cannot be unloaded:\\n %s\", \n .         sQuote(package), oldversion, paste0(P, conditionMessage(e), \n .             \"\\n\")), domain = NA)\n . })",
      "3. tryCatchList(expr, classes, parentenv, handlers)",
      "4. tryCatchOne(expr, names, parentenv, handlers[[1L]])",
      "5. value[[3L]](cond)",
      "6. stop(gettextf(\"Package %s version %s cannot be unloaded:\\n %s\", \n .     sQuote(package), oldversion, paste0(P, conditionMessage(e), \n .         \"\\n\")), domain = NA)"
     ]
    }
   ],
   "source": [
    "library(xtable)\n",
    "library(IRdisplay)\n",
    "library(repr)"
   ]
  },
  {
   "cell_type": "code",
   "execution_count": null,
   "metadata": {},
   "outputs": [],
   "source": []
  },
  {
   "cell_type": "code",
   "execution_count": null,
   "metadata": {},
   "outputs": [],
   "source": []
  },
  {
   "cell_type": "code",
   "execution_count": 5,
   "metadata": {
    "collapsed": true
   },
   "outputs": [
    {
     "name": "stderr",
     "output_type": "stream",
     "text": [
      "Updating HTML index of packages in '.Library'\n",
      "Making 'packages.html' ... done\n",
      "Updating HTML index of packages in '.Library'\n",
      "Making 'packages.html' ... done\n",
      "Updating HTML index of packages in '.Library'\n",
      "Making 'packages.html' ... done\n",
      "Warning message:\n",
      "“package ‘geo’ is not available (for R version 3.5.1)”Updating HTML index of packages in '.Library'\n",
      "Making 'packages.html' ... done\n",
      "Updating HTML index of packages in '.Library'\n",
      "Making 'packages.html' ... done\n",
      "also installing the dependencies ‘e1071’, ‘class’, ‘classInt’, ‘units’\n",
      "\n",
      "Warning message in install.packages(\"sf\"):\n",
      "“installation of package ‘units’ had non-zero exit status”Warning message in install.packages(\"sf\"):\n",
      "“installation of package ‘sf’ had non-zero exit status”Updating HTML index of packages in '.Library'\n",
      "Making 'packages.html' ... done\n",
      "Updating HTML index of packages in '.Library'\n",
      "Making 'packages.html' ... done\n",
      "Warning message:\n",
      "“package ‘spDataLarge’ is not available (for R version 3.5.1)”also installing the dependencies ‘httpuv’, ‘xtable’, ‘sourcetools’, ‘later’, ‘promises’, ‘shiny’, ‘gridExtra’, ‘gdtools’, ‘lwgeom’, ‘rgdal’, ‘rgeos’, ‘KernSmooth’, ‘XML’, ‘crosstalk’, ‘png’, ‘scales’, ‘viridis’, ‘brew’, ‘satellite’, ‘svglite’, ‘webshot’, ‘tmaptools’, ‘sf’, ‘units’, ‘htmlwidgets’, ‘leaflet’, ‘mapview’\n",
      "\n",
      "Warning message in install.packages(\"tmap\"):\n",
      "“installation of package ‘gdtools’ had non-zero exit status”Warning message in install.packages(\"tmap\"):\n",
      "“installation of package ‘rgdal’ had non-zero exit status”Warning message in install.packages(\"tmap\"):\n",
      "“installation of package ‘rgeos’ had non-zero exit status”Warning message in install.packages(\"tmap\"):\n",
      "“installation of package ‘units’ had non-zero exit status”Warning message in install.packages(\"tmap\"):\n",
      "“installation of package ‘svglite’ had non-zero exit status”Warning message in install.packages(\"tmap\"):\n",
      "“installation of package ‘sf’ had non-zero exit status”Warning message in install.packages(\"tmap\"):\n",
      "“installation of package ‘lwgeom’ had non-zero exit status”Warning message in install.packages(\"tmap\"):\n",
      "“installation of package ‘tmaptools’ had non-zero exit status”Warning message in install.packages(\"tmap\"):\n",
      "“installation of package ‘mapview’ had non-zero exit status”Warning message in install.packages(\"tmap\"):\n",
      "“installation of package ‘tmap’ had non-zero exit status”Updating HTML index of packages in '.Library'\n",
      "Making 'packages.html' ... done\n",
      "Updating HTML index of packages in '.Library'\n",
      "Making 'packages.html' ... done\n",
      "also installing the dependencies ‘units’, ‘gdtools’, ‘sf’, ‘svglite’\n",
      "\n",
      "Warning message in install.packages(\"mapview\"):\n",
      "“installation of package ‘units’ had non-zero exit status”Warning message in install.packages(\"mapview\"):\n",
      "“installation of package ‘gdtools’ had non-zero exit status”Warning message in install.packages(\"mapview\"):\n",
      "“installation of package ‘sf’ had non-zero exit status”Warning message in install.packages(\"mapview\"):\n",
      "“installation of package ‘svglite’ had non-zero exit status”Warning message in install.packages(\"mapview\"):\n",
      "“installation of package ‘mapview’ had non-zero exit status”Updating HTML index of packages in '.Library'\n",
      "Making 'packages.html' ... done\n",
      "Updating HTML index of packages in '.Library'\n",
      "Making 'packages.html' ... done\n",
      "Updating HTML index of packages in '.Library'\n",
      "Making 'packages.html' ... done\n",
      "Updating HTML index of packages in '.Library'\n",
      "Making 'packages.html' ... done\n",
      "also installing the dependencies ‘ini’, ‘desc’, ‘prettyunits’, ‘xopen’, ‘clisymbols’, ‘fs’, ‘gh’, ‘git2r’, ‘memoise’, ‘pkgbuild’, ‘pkgload’, ‘rcmdcheck’, ‘remotes’, ‘sessioninfo’, ‘usethis’\n",
      "\n",
      "Warning message in install.packages(\"devtools\"):\n",
      "“installation of package ‘git2r’ had non-zero exit status”Warning message in install.packages(\"devtools\"):\n",
      "“installation of package ‘usethis’ had non-zero exit status”Warning message in install.packages(\"devtools\"):\n",
      "“installation of package ‘devtools’ had non-zero exit status”Updating HTML index of packages in '.Library'\n",
      "Making 'packages.html' ... done\n",
      "also installing the dependencies ‘units’, ‘foreign’, ‘jsonlite’, ‘protolite’, ‘sf’, ‘rgdal’, ‘rgeos’, ‘maptools’, ‘V8’, ‘geojson’, ‘jqr’\n",
      "\n",
      "Warning message in install.packages(\"geojsonio\"):\n",
      "“installation of package ‘units’ had non-zero exit status”Warning message in install.packages(\"geojsonio\"):\n",
      "“installation of package ‘rgdal’ had non-zero exit status”Warning message in install.packages(\"geojsonio\"):\n",
      "“installation of package ‘rgeos’ had non-zero exit status”Warning message in install.packages(\"geojsonio\"):\n",
      "“installation of package ‘jqr’ had non-zero exit status”Warning message in install.packages(\"geojsonio\"):\n",
      "“installation of package ‘protolite’ had non-zero exit status”Warning message in install.packages(\"geojsonio\"):\n",
      "“installation of package ‘sf’ had non-zero exit status”Warning message in install.packages(\"geojsonio\"):\n",
      "“installation of package ‘V8’ had non-zero exit status”Warning message in install.packages(\"geojsonio\"):\n",
      "“installation of package ‘geojson’ had non-zero exit status”Warning message in install.packages(\"geojsonio\"):\n",
      "“installation of package ‘geojsonio’ had non-zero exit status”Updating HTML index of packages in '.Library'\n",
      "Making 'packages.html' ... done\n",
      "Warning message in install.packages(\"rgdal\"):\n",
      "“installation of package ‘rgdal’ had non-zero exit status”Updating HTML index of packages in '.Library'\n",
      "Making 'packages.html' ... done\n",
      "also installing the dependency ‘leaflet.extras’\n",
      "\n",
      "Updating HTML index of packages in '.Library'\n",
      "Making 'packages.html' ... done\n",
      "Updating HTML index of packages in '.Library'\n",
      "Making 'packages.html' ... done\n"
     ]
    }
   ],
   "source": [
    "install.packages(\"tidyverse\")\n",
    "install.packages(\"lubridate\")\n",
    "install.packages(\"snakecase\")\n",
    "\n",
    "install.packages(\"geo\")\n",
    "install.packages(\"sp\")\n",
    "install.packages(\"raster\")\n",
    "install.packages(\"sf\")\n",
    "install.packages(\"spData\")\n",
    "install.packages(\"spDataLarge\")\n",
    "\n",
    "install.packages(\"tmap\") # for static and interactive maps\n",
    "install.packages(\"leaflet\") # for interactive maps\n",
    "install.packages(\"mapview\") # for interactive maps\n",
    "install.packages(\"ggplot2\") # tidyverse vis package\n",
    "install.packages(\"shiny\") # for web applications\n",
    "\n",
    "install.packages(\"maps\")\n",
    "install.packages(\"devtools\")\n",
    "\n",
    "install.packages(\"geojsonio\")\n",
    "install.packages(\"rgdal\")\n",
    "\n",
    "install.packages(\"leaflet.esri\")\n",
    "install.packages(\"leaflet.extras\")"
   ]
  }
 ],
 "metadata": {
  "kernelspec": {
   "display_name": "R",
   "language": "R",
   "name": "ir"
  },
  "language_info": {
   "codemirror_mode": "r",
   "file_extension": ".r",
   "mimetype": "text/x-r-source",
   "name": "R",
   "pygments_lexer": "r",
   "version": "3.5.1"
  }
 },
 "nbformat": 4,
 "nbformat_minor": 2
}
